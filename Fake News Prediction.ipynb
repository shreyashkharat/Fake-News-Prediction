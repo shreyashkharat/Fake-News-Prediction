{
 "cells": [
  {
   "cell_type": "markdown",
   "id": "prostate-newfoundland",
   "metadata": {},
   "source": [
    "## Importing Packages and NLP related data."
   ]
  },
  {
   "cell_type": "code",
   "execution_count": 1,
   "id": "pleasant-inventory",
   "metadata": {},
   "outputs": [],
   "source": [
    "import numpy as np\n",
    "import pandas as pd\n",
    "import re\n",
    "from nltk.corpus import stopwords\n",
    "from nltk.stem.porter import PorterStemmer\n",
    "from sklearn.feature_extraction.text import TfidfVectorizer"
   ]
  },
  {
   "cell_type": "markdown",
   "id": "separated-promotion",
   "metadata": {},
   "source": [
    "* Regular Expression: re is for searching text in documents\n",
    "* nltk means Natural Language Toolkit.\n",
    "* PorterSteemer is used in steeming, stemming is a process of getting the root word from a normal word, ex: root word for learning. learner, prelearning is learn, i.e. stemming means removinmg all possible prefixes and suffixes of a word.\n",
    "* TfidfVectorizer wil used to form feature vectors from texts.\n",
    "* Stopwords are the words that dont add any information to the sentense like the, on, etc."
   ]
  },
  {
   "cell_type": "code",
   "execution_count": 2,
   "id": "affected-fruit",
   "metadata": {},
   "outputs": [
    {
     "name": "stderr",
     "output_type": "stream",
     "text": [
      "[nltk_data] Downloading package stopwords to\n",
      "[nltk_data]     /home/shreyashkharat/nltk_data...\n",
      "[nltk_data]   Package stopwords is already up-to-date!\n"
     ]
    },
    {
     "data": {
      "text/plain": [
       "True"
      ]
     },
     "execution_count": 2,
     "metadata": {},
     "output_type": "execute_result"
    }
   ],
   "source": [
    "import nltk\n",
    "nltk.download('stopwords')"
   ]
  },
  {
   "cell_type": "markdown",
   "id": "classified-arizona",
   "metadata": {},
   "source": [
    "## Data Preprocessing"
   ]
  },
  {
   "cell_type": "code",
   "execution_count": 3,
   "id": "novel-discharge",
   "metadata": {},
   "outputs": [],
   "source": [
    "data_set = pd.read_csv('/media/shreyashkharat/Storage Drive/Machine Learning, Deep Learning/Python/Projects/Fake News Predicition/resources/train.csv', header = 0)"
   ]
  },
  {
   "cell_type": "code",
   "execution_count": 4,
   "id": "macro-credits",
   "metadata": {},
   "outputs": [
    {
     "data": {
      "text/plain": [
       "(20800, 5)"
      ]
     },
     "execution_count": 4,
     "metadata": {},
     "output_type": "execute_result"
    }
   ],
   "source": [
    "data_set.shape"
   ]
  },
  {
   "cell_type": "code",
   "execution_count": 5,
   "id": "musical-oakland",
   "metadata": {},
   "outputs": [
    {
     "name": "stdout",
     "output_type": "stream",
     "text": [
      "<class 'pandas.core.frame.DataFrame'>\n",
      "RangeIndex: 20800 entries, 0 to 20799\n",
      "Data columns (total 5 columns):\n",
      " #   Column  Non-Null Count  Dtype \n",
      "---  ------  --------------  ----- \n",
      " 0   id      20800 non-null  int64 \n",
      " 1   title   20242 non-null  object\n",
      " 2   author  18843 non-null  object\n",
      " 3   text    20761 non-null  object\n",
      " 4   label   20800 non-null  int64 \n",
      "dtypes: int64(2), object(3)\n",
      "memory usage: 812.6+ KB\n"
     ]
    }
   ],
   "source": [
    "data_set.info()"
   ]
  },
  {
   "cell_type": "markdown",
   "id": "dangerous-romania",
   "metadata": {},
   "source": [
    "* The above infos clearly show that there are missing values in title, author, text."
   ]
  },
  {
   "cell_type": "markdown",
   "id": "ranking-arabic",
   "metadata": {},
   "source": [
    "### Missing Value Imputation"
   ]
  },
  {
   "cell_type": "code",
   "execution_count": 6,
   "id": "disciplinary-experience",
   "metadata": {},
   "outputs": [],
   "source": [
    "data_set = data_set.fillna(' ')"
   ]
  },
  {
   "cell_type": "code",
   "execution_count": 7,
   "id": "complimentary-convention",
   "metadata": {},
   "outputs": [],
   "source": [
    "data_set['describe'] = data_set['title'] + ' ' + data_set['author']"
   ]
  },
  {
   "cell_type": "code",
   "execution_count": 8,
   "id": "mature-travel",
   "metadata": {},
   "outputs": [],
   "source": [
    "x = data_set.loc[:, data_set.columns != 'label']"
   ]
  },
  {
   "cell_type": "code",
   "execution_count": 9,
   "id": "miniature-sunset",
   "metadata": {},
   "outputs": [],
   "source": [
    "y = data_set['label']"
   ]
  },
  {
   "cell_type": "markdown",
   "id": "wrong-august",
   "metadata": {},
   "source": [
    "## Stemming"
   ]
  },
  {
   "cell_type": "code",
   "execution_count": 10,
   "id": "hidden-tennessee",
   "metadata": {},
   "outputs": [],
   "source": [
    "port_stem = PorterStemmer()"
   ]
  },
  {
   "cell_type": "code",
   "execution_count": 11,
   "id": "quarterly-equation",
   "metadata": {},
   "outputs": [],
   "source": [
    "def stemming(argument):\n",
    "    stemmed_argument = re.sub('[^a-zA-Z]', ' ', argument)\n",
    "    stemmed_argument = stemmed_argument.lower()\n",
    "    stemmed_argument = stemmed_argument.split()\n",
    "    stemmed_argument = [port_stem.stem(word) for word in stemmed_argument if not word in stopwords.words('english')]\n",
    "    stemmed_argument = ' '.join(stemmed_argument)\n",
    "    return stemmed_argument"
   ]
  },
  {
   "cell_type": "markdown",
   "id": "floppy-penny",
   "metadata": {},
   "source": [
    "Explanation of above function:\n",
    "* Line 1: It differentiates between alphabets and all other characters, i.e. it considers only characters a-z and A-Z from describe, and replace any other character by a space.\n",
    "* Line 2: It converts all letters into lower case.\n",
    "* Line 3: It splits the letters in respective lists.\n",
    "* Line 4: Now we stem each word all the non-stopwords.\n",
    "* Line 5: We join all the words using space.\n",
    "* Line 6: Return result."
   ]
  },
  {
   "cell_type": "code",
   "execution_count": 12,
   "id": "contrary-volunteer",
   "metadata": {},
   "outputs": [],
   "source": [
    "data_set['describe'] = data_set['describe'].apply(stemming)"
   ]
  },
  {
   "cell_type": "markdown",
   "id": "collectible-covering",
   "metadata": {},
   "source": [
    "## Variable Extraction and Data Vectorization."
   ]
  },
  {
   "cell_type": "code",
   "execution_count": 13,
   "id": "employed-industry",
   "metadata": {},
   "outputs": [],
   "source": [
    "x = data_set['describe'].values\n",
    "y = data_set['label'].values"
   ]
  },
  {
   "cell_type": "markdown",
   "id": "wanted-passing",
   "metadata": {},
   "source": [
    "* Data Vectorization"
   ]
  },
  {
   "cell_type": "code",
   "execution_count": 14,
   "id": "offensive-miniature",
   "metadata": {},
   "outputs": [],
   "source": [
    "vectorizer = TfidfVectorizer()"
   ]
  },
  {
   "cell_type": "code",
   "execution_count": 15,
   "id": "distinguished-stupid",
   "metadata": {},
   "outputs": [],
   "source": [
    "vectorizer.fit(x)\n",
    "x = vectorizer.transform(x)"
   ]
  },
  {
   "cell_type": "markdown",
   "id": "attempted-volleyball",
   "metadata": {},
   "source": [
    "### Train-Test Split"
   ]
  },
  {
   "cell_type": "code",
   "execution_count": 16,
   "id": "outside-examination",
   "metadata": {},
   "outputs": [],
   "source": [
    "from sklearn.model_selection import train_test_split\n",
    "x_train, x_test, y_train, y_test = train_test_split(x, y, test_size = 0.2, random_state = 0)"
   ]
  },
  {
   "cell_type": "markdown",
   "id": "instructional-fruit",
   "metadata": {},
   "source": [
    "## Training the Model and Evaluating it."
   ]
  },
  {
   "cell_type": "code",
   "execution_count": 17,
   "id": "corrected-mortality",
   "metadata": {},
   "outputs": [],
   "source": [
    "from sklearn.linear_model import LogisticRegression\n",
    "model_logi = LogisticRegression()"
   ]
  },
  {
   "cell_type": "code",
   "execution_count": 18,
   "id": "million-imperial",
   "metadata": {},
   "outputs": [
    {
     "data": {
      "text/plain": [
       "LogisticRegression()"
      ]
     },
     "execution_count": 18,
     "metadata": {},
     "output_type": "execute_result"
    }
   ],
   "source": [
    "model_logi.fit(x_train, y_train)"
   ]
  },
  {
   "cell_type": "code",
   "execution_count": 19,
   "id": "other-occupation",
   "metadata": {},
   "outputs": [
    {
     "data": {
      "text/plain": [
       "0.9874399038461539"
      ]
     },
     "execution_count": 19,
     "metadata": {},
     "output_type": "execute_result"
    }
   ],
   "source": [
    "train_pred_logi = model_logi.predict(x_train)\n",
    "from sklearn.metrics import accuracy_score\n",
    "accuracy_score(y_train, train_pred_logi)"
   ]
  },
  {
   "cell_type": "code",
   "execution_count": 20,
   "id": "coated-remove",
   "metadata": {},
   "outputs": [
    {
     "data": {
      "text/plain": [
       "0.9783653846153846"
      ]
     },
     "execution_count": 20,
     "metadata": {},
     "output_type": "execute_result"
    }
   ],
   "source": [
    "test_pred_logi = model_logi.predict(x_test)\n",
    "accuracy_score(y_test, test_pred_logi)"
   ]
  },
  {
   "cell_type": "code",
   "execution_count": 21,
   "id": "improved-hayes",
   "metadata": {},
   "outputs": [
    {
     "data": {
      "text/plain": [
       "array([[1975,   71],\n",
       "       [  19, 2095]])"
      ]
     },
     "execution_count": 21,
     "metadata": {},
     "output_type": "execute_result"
    }
   ],
   "source": [
    "from sklearn.metrics import confusion_matrix\n",
    "confusion_matrix(y_test,test_pred_logi)"
   ]
  },
  {
   "cell_type": "markdown",
   "id": "independent-accessory",
   "metadata": {},
   "source": [
    "* The model seems pretty good, with a excellent accuracy of 0.9784 on test_set."
   ]
  },
  {
   "cell_type": "code",
   "execution_count": null,
   "id": "toxic-sector",
   "metadata": {},
   "outputs": [],
   "source": []
  }
 ],
 "metadata": {
  "kernelspec": {
   "display_name": "Python 3",
   "language": "python",
   "name": "python3"
  },
  "language_info": {
   "codemirror_mode": {
    "name": "ipython",
    "version": 3
   },
   "file_extension": ".py",
   "mimetype": "text/x-python",
   "name": "python",
   "nbconvert_exporter": "python",
   "pygments_lexer": "ipython3",
   "version": "3.9.5"
  }
 },
 "nbformat": 4,
 "nbformat_minor": 5
}
